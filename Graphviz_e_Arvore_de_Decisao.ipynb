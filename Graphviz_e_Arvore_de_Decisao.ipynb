{
  "nbformat": 4,
  "nbformat_minor": 0,
  "metadata": {
    "colab": {
      "name": "Graphviz e Arvore de Decisao.ipynb",
      "provenance": [],
      "authorship_tag": "ABX9TyN6Bsq7r+HaWcGZ2ZAqy+wS",
      "include_colab_link": true
    },
    "kernelspec": {
      "name": "python3",
      "display_name": "Python 3"
    },
    "language_info": {
      "name": "python"
    }
  },
  "cells": [
    {
      "cell_type": "markdown",
      "metadata": {
        "id": "view-in-github",
        "colab_type": "text"
      },
      "source": [
        "<a href=\"https://colab.research.google.com/github/Andersonsstr/Curso-Alura-Machine-Learning/blob/main/Graphviz_e_Arvore_de_Decisao.ipynb\" target=\"_parent\"><img src=\"https://colab.research.google.com/assets/colab-badge.svg\" alt=\"Open In Colab\"/></a>"
      ]
    },
    {
      "cell_type": "code",
      "metadata": {
        "id": "49mKuRkPelIq"
      },
      "source": [
        "import pandas as pd"
      ],
      "execution_count": 1,
      "outputs": []
    },
    {
      "cell_type": "code",
      "metadata": {
        "colab": {
          "base_uri": "https://localhost:8080/",
          "height": 206
        },
        "id": "qsdqovT2fJ4a",
        "outputId": "d1c7be16-b9d9-4f9f-d7e0-6b1b48361e35"
      },
      "source": [
        "uri = \"https://gist.githubusercontent.com/guilhermesilveira/4d1d4a16ccbf6ea4e0a64a38a24ec884/raw/afd05cb0c796d18f3f5a6537053ded308ba94bf7/car-prices.csv\"\n",
        "dados = pd.read_csv(uri)\n",
        "dados.head()"
      ],
      "execution_count": 2,
      "outputs": [
        {
          "output_type": "execute_result",
          "data": {
            "text/html": [
              "<div>\n",
              "<style scoped>\n",
              "    .dataframe tbody tr th:only-of-type {\n",
              "        vertical-align: middle;\n",
              "    }\n",
              "\n",
              "    .dataframe tbody tr th {\n",
              "        vertical-align: top;\n",
              "    }\n",
              "\n",
              "    .dataframe thead th {\n",
              "        text-align: right;\n",
              "    }\n",
              "</style>\n",
              "<table border=\"1\" class=\"dataframe\">\n",
              "  <thead>\n",
              "    <tr style=\"text-align: right;\">\n",
              "      <th></th>\n",
              "      <th>Unnamed: 0</th>\n",
              "      <th>mileage_per_year</th>\n",
              "      <th>model_year</th>\n",
              "      <th>price</th>\n",
              "      <th>sold</th>\n",
              "    </tr>\n",
              "  </thead>\n",
              "  <tbody>\n",
              "    <tr>\n",
              "      <th>0</th>\n",
              "      <td>0</td>\n",
              "      <td>21801</td>\n",
              "      <td>2000</td>\n",
              "      <td>30941.02</td>\n",
              "      <td>yes</td>\n",
              "    </tr>\n",
              "    <tr>\n",
              "      <th>1</th>\n",
              "      <td>1</td>\n",
              "      <td>7843</td>\n",
              "      <td>1998</td>\n",
              "      <td>40557.96</td>\n",
              "      <td>yes</td>\n",
              "    </tr>\n",
              "    <tr>\n",
              "      <th>2</th>\n",
              "      <td>2</td>\n",
              "      <td>7109</td>\n",
              "      <td>2006</td>\n",
              "      <td>89627.50</td>\n",
              "      <td>no</td>\n",
              "    </tr>\n",
              "    <tr>\n",
              "      <th>3</th>\n",
              "      <td>3</td>\n",
              "      <td>26823</td>\n",
              "      <td>2015</td>\n",
              "      <td>95276.14</td>\n",
              "      <td>no</td>\n",
              "    </tr>\n",
              "    <tr>\n",
              "      <th>4</th>\n",
              "      <td>4</td>\n",
              "      <td>7935</td>\n",
              "      <td>2014</td>\n",
              "      <td>117384.68</td>\n",
              "      <td>yes</td>\n",
              "    </tr>\n",
              "  </tbody>\n",
              "</table>\n",
              "</div>"
            ],
            "text/plain": [
              "   Unnamed: 0  mileage_per_year  model_year      price sold\n",
              "0           0             21801        2000   30941.02  yes\n",
              "1           1              7843        1998   40557.96  yes\n",
              "2           2              7109        2006   89627.50   no\n",
              "3           3             26823        2015   95276.14   no\n",
              "4           4              7935        2014  117384.68  yes"
            ]
          },
          "metadata": {},
          "execution_count": 2
        }
      ]
    },
    {
      "cell_type": "markdown",
      "metadata": {
        "id": "zo02se7Hf-Z5"
      },
      "source": [
        "#Pré Processamento"
      ]
    },
    {
      "cell_type": "code",
      "metadata": {
        "id": "czyIfEBCfPJt"
      },
      "source": [
        "a_renomear = {\n",
        "    'mileage_per_year' : 'milhas_por_ano',\n",
        "    'model_year' : 'ano_do_modelo',\n",
        "    'price' : 'preco',\n",
        "    'sold' : 'vendido'\n",
        "}"
      ],
      "execution_count": 3,
      "outputs": []
    },
    {
      "cell_type": "code",
      "metadata": {
        "colab": {
          "base_uri": "https://localhost:8080/",
          "height": 206
        },
        "id": "TLqrviNHfRiq",
        "outputId": "8fe37cb6-bab9-4924-efdf-31e7a2c59956"
      },
      "source": [
        "dados = dados.rename(columns=a_renomear)\n",
        "dados.head()"
      ],
      "execution_count": 4,
      "outputs": [
        {
          "output_type": "execute_result",
          "data": {
            "text/html": [
              "<div>\n",
              "<style scoped>\n",
              "    .dataframe tbody tr th:only-of-type {\n",
              "        vertical-align: middle;\n",
              "    }\n",
              "\n",
              "    .dataframe tbody tr th {\n",
              "        vertical-align: top;\n",
              "    }\n",
              "\n",
              "    .dataframe thead th {\n",
              "        text-align: right;\n",
              "    }\n",
              "</style>\n",
              "<table border=\"1\" class=\"dataframe\">\n",
              "  <thead>\n",
              "    <tr style=\"text-align: right;\">\n",
              "      <th></th>\n",
              "      <th>Unnamed: 0</th>\n",
              "      <th>milhas_por_ano</th>\n",
              "      <th>ano_do_modelo</th>\n",
              "      <th>preco</th>\n",
              "      <th>vendido</th>\n",
              "    </tr>\n",
              "  </thead>\n",
              "  <tbody>\n",
              "    <tr>\n",
              "      <th>0</th>\n",
              "      <td>0</td>\n",
              "      <td>21801</td>\n",
              "      <td>2000</td>\n",
              "      <td>30941.02</td>\n",
              "      <td>yes</td>\n",
              "    </tr>\n",
              "    <tr>\n",
              "      <th>1</th>\n",
              "      <td>1</td>\n",
              "      <td>7843</td>\n",
              "      <td>1998</td>\n",
              "      <td>40557.96</td>\n",
              "      <td>yes</td>\n",
              "    </tr>\n",
              "    <tr>\n",
              "      <th>2</th>\n",
              "      <td>2</td>\n",
              "      <td>7109</td>\n",
              "      <td>2006</td>\n",
              "      <td>89627.50</td>\n",
              "      <td>no</td>\n",
              "    </tr>\n",
              "    <tr>\n",
              "      <th>3</th>\n",
              "      <td>3</td>\n",
              "      <td>26823</td>\n",
              "      <td>2015</td>\n",
              "      <td>95276.14</td>\n",
              "      <td>no</td>\n",
              "    </tr>\n",
              "    <tr>\n",
              "      <th>4</th>\n",
              "      <td>4</td>\n",
              "      <td>7935</td>\n",
              "      <td>2014</td>\n",
              "      <td>117384.68</td>\n",
              "      <td>yes</td>\n",
              "    </tr>\n",
              "  </tbody>\n",
              "</table>\n",
              "</div>"
            ],
            "text/plain": [
              "   Unnamed: 0  milhas_por_ano  ano_do_modelo      preco vendido\n",
              "0           0           21801           2000   30941.02     yes\n",
              "1           1            7843           1998   40557.96     yes\n",
              "2           2            7109           2006   89627.50      no\n",
              "3           3           26823           2015   95276.14      no\n",
              "4           4            7935           2014  117384.68     yes"
            ]
          },
          "metadata": {},
          "execution_count": 4
        }
      ]
    },
    {
      "cell_type": "code",
      "metadata": {
        "id": "-x3q_CQTfYZa"
      },
      "source": [
        "a_trocar = {\n",
        "    'no' : 0,\n",
        "    'yes': 1\n",
        "}"
      ],
      "execution_count": 6,
      "outputs": []
    },
    {
      "cell_type": "code",
      "metadata": {
        "colab": {
          "base_uri": "https://localhost:8080/",
          "height": 206
        },
        "id": "O8h5SGTqfvdC",
        "outputId": "7b6fa4a7-af76-4c7c-c51c-7936eaffb9be"
      },
      "source": [
        "dados.vendido = dados.vendido.map(a_trocar)\n",
        "dados.head()"
      ],
      "execution_count": 7,
      "outputs": [
        {
          "output_type": "execute_result",
          "data": {
            "text/html": [
              "<div>\n",
              "<style scoped>\n",
              "    .dataframe tbody tr th:only-of-type {\n",
              "        vertical-align: middle;\n",
              "    }\n",
              "\n",
              "    .dataframe tbody tr th {\n",
              "        vertical-align: top;\n",
              "    }\n",
              "\n",
              "    .dataframe thead th {\n",
              "        text-align: right;\n",
              "    }\n",
              "</style>\n",
              "<table border=\"1\" class=\"dataframe\">\n",
              "  <thead>\n",
              "    <tr style=\"text-align: right;\">\n",
              "      <th></th>\n",
              "      <th>Unnamed: 0</th>\n",
              "      <th>milhas_por_ano</th>\n",
              "      <th>ano_do_modelo</th>\n",
              "      <th>preco</th>\n",
              "      <th>vendido</th>\n",
              "    </tr>\n",
              "  </thead>\n",
              "  <tbody>\n",
              "    <tr>\n",
              "      <th>0</th>\n",
              "      <td>0</td>\n",
              "      <td>21801</td>\n",
              "      <td>2000</td>\n",
              "      <td>30941.02</td>\n",
              "      <td>1</td>\n",
              "    </tr>\n",
              "    <tr>\n",
              "      <th>1</th>\n",
              "      <td>1</td>\n",
              "      <td>7843</td>\n",
              "      <td>1998</td>\n",
              "      <td>40557.96</td>\n",
              "      <td>1</td>\n",
              "    </tr>\n",
              "    <tr>\n",
              "      <th>2</th>\n",
              "      <td>2</td>\n",
              "      <td>7109</td>\n",
              "      <td>2006</td>\n",
              "      <td>89627.50</td>\n",
              "      <td>0</td>\n",
              "    </tr>\n",
              "    <tr>\n",
              "      <th>3</th>\n",
              "      <td>3</td>\n",
              "      <td>26823</td>\n",
              "      <td>2015</td>\n",
              "      <td>95276.14</td>\n",
              "      <td>0</td>\n",
              "    </tr>\n",
              "    <tr>\n",
              "      <th>4</th>\n",
              "      <td>4</td>\n",
              "      <td>7935</td>\n",
              "      <td>2014</td>\n",
              "      <td>117384.68</td>\n",
              "      <td>1</td>\n",
              "    </tr>\n",
              "  </tbody>\n",
              "</table>\n",
              "</div>"
            ],
            "text/plain": [
              "   Unnamed: 0  milhas_por_ano  ano_do_modelo      preco  vendido\n",
              "0           0           21801           2000   30941.02        1\n",
              "1           1            7843           1998   40557.96        1\n",
              "2           2            7109           2006   89627.50        0\n",
              "3           3           26823           2015   95276.14        0\n",
              "4           4            7935           2014  117384.68        1"
            ]
          },
          "metadata": {},
          "execution_count": 7
        }
      ]
    },
    {
      "cell_type": "code",
      "metadata": {
        "colab": {
          "base_uri": "https://localhost:8080/",
          "height": 206
        },
        "id": "8qCKTcl1gPRh",
        "outputId": "be82ce63-dc4a-4997-b918-b61a2c2fb8ea"
      },
      "source": [
        "from datetime import datetime\n",
        "\n",
        "ano_atual = datetime.today().year\n",
        "dados['idade_do_modelo'] = ano_atual - dados.ano_do_modelo \n",
        "dados.head()"
      ],
      "execution_count": 12,
      "outputs": [
        {
          "output_type": "execute_result",
          "data": {
            "text/html": [
              "<div>\n",
              "<style scoped>\n",
              "    .dataframe tbody tr th:only-of-type {\n",
              "        vertical-align: middle;\n",
              "    }\n",
              "\n",
              "    .dataframe tbody tr th {\n",
              "        vertical-align: top;\n",
              "    }\n",
              "\n",
              "    .dataframe thead th {\n",
              "        text-align: right;\n",
              "    }\n",
              "</style>\n",
              "<table border=\"1\" class=\"dataframe\">\n",
              "  <thead>\n",
              "    <tr style=\"text-align: right;\">\n",
              "      <th></th>\n",
              "      <th>Unnamed: 0</th>\n",
              "      <th>milhas_por_ano</th>\n",
              "      <th>ano_do_modelo</th>\n",
              "      <th>preco</th>\n",
              "      <th>vendido</th>\n",
              "      <th>idade_do_modelo</th>\n",
              "    </tr>\n",
              "  </thead>\n",
              "  <tbody>\n",
              "    <tr>\n",
              "      <th>0</th>\n",
              "      <td>0</td>\n",
              "      <td>21801</td>\n",
              "      <td>2000</td>\n",
              "      <td>30941.02</td>\n",
              "      <td>1</td>\n",
              "      <td>21</td>\n",
              "    </tr>\n",
              "    <tr>\n",
              "      <th>1</th>\n",
              "      <td>1</td>\n",
              "      <td>7843</td>\n",
              "      <td>1998</td>\n",
              "      <td>40557.96</td>\n",
              "      <td>1</td>\n",
              "      <td>23</td>\n",
              "    </tr>\n",
              "    <tr>\n",
              "      <th>2</th>\n",
              "      <td>2</td>\n",
              "      <td>7109</td>\n",
              "      <td>2006</td>\n",
              "      <td>89627.50</td>\n",
              "      <td>0</td>\n",
              "      <td>15</td>\n",
              "    </tr>\n",
              "    <tr>\n",
              "      <th>3</th>\n",
              "      <td>3</td>\n",
              "      <td>26823</td>\n",
              "      <td>2015</td>\n",
              "      <td>95276.14</td>\n",
              "      <td>0</td>\n",
              "      <td>6</td>\n",
              "    </tr>\n",
              "    <tr>\n",
              "      <th>4</th>\n",
              "      <td>4</td>\n",
              "      <td>7935</td>\n",
              "      <td>2014</td>\n",
              "      <td>117384.68</td>\n",
              "      <td>1</td>\n",
              "      <td>7</td>\n",
              "    </tr>\n",
              "  </tbody>\n",
              "</table>\n",
              "</div>"
            ],
            "text/plain": [
              "   Unnamed: 0  milhas_por_ano  ...  vendido  idade_do_modelo\n",
              "0           0           21801  ...        1               21\n",
              "1           1            7843  ...        1               23\n",
              "2           2            7109  ...        0               15\n",
              "3           3           26823  ...        0                6\n",
              "4           4            7935  ...        1                7\n",
              "\n",
              "[5 rows x 6 columns]"
            ]
          },
          "metadata": {},
          "execution_count": 12
        }
      ]
    },
    {
      "cell_type": "code",
      "metadata": {
        "colab": {
          "base_uri": "https://localhost:8080/",
          "height": 206
        },
        "id": "sASZCKXbggRi",
        "outputId": "e563231a-c6e3-4b41-b590-0bcf660d2f09"
      },
      "source": [
        "dados['km_por_ano'] = dados.milhas_por_ano * 1.60934\n",
        "dados.head()"
      ],
      "execution_count": 13,
      "outputs": [
        {
          "output_type": "execute_result",
          "data": {
            "text/html": [
              "<div>\n",
              "<style scoped>\n",
              "    .dataframe tbody tr th:only-of-type {\n",
              "        vertical-align: middle;\n",
              "    }\n",
              "\n",
              "    .dataframe tbody tr th {\n",
              "        vertical-align: top;\n",
              "    }\n",
              "\n",
              "    .dataframe thead th {\n",
              "        text-align: right;\n",
              "    }\n",
              "</style>\n",
              "<table border=\"1\" class=\"dataframe\">\n",
              "  <thead>\n",
              "    <tr style=\"text-align: right;\">\n",
              "      <th></th>\n",
              "      <th>Unnamed: 0</th>\n",
              "      <th>milhas_por_ano</th>\n",
              "      <th>ano_do_modelo</th>\n",
              "      <th>preco</th>\n",
              "      <th>vendido</th>\n",
              "      <th>idade_do_modelo</th>\n",
              "      <th>km_por_ano</th>\n",
              "    </tr>\n",
              "  </thead>\n",
              "  <tbody>\n",
              "    <tr>\n",
              "      <th>0</th>\n",
              "      <td>0</td>\n",
              "      <td>21801</td>\n",
              "      <td>2000</td>\n",
              "      <td>30941.02</td>\n",
              "      <td>1</td>\n",
              "      <td>21</td>\n",
              "      <td>35085.22134</td>\n",
              "    </tr>\n",
              "    <tr>\n",
              "      <th>1</th>\n",
              "      <td>1</td>\n",
              "      <td>7843</td>\n",
              "      <td>1998</td>\n",
              "      <td>40557.96</td>\n",
              "      <td>1</td>\n",
              "      <td>23</td>\n",
              "      <td>12622.05362</td>\n",
              "    </tr>\n",
              "    <tr>\n",
              "      <th>2</th>\n",
              "      <td>2</td>\n",
              "      <td>7109</td>\n",
              "      <td>2006</td>\n",
              "      <td>89627.50</td>\n",
              "      <td>0</td>\n",
              "      <td>15</td>\n",
              "      <td>11440.79806</td>\n",
              "    </tr>\n",
              "    <tr>\n",
              "      <th>3</th>\n",
              "      <td>3</td>\n",
              "      <td>26823</td>\n",
              "      <td>2015</td>\n",
              "      <td>95276.14</td>\n",
              "      <td>0</td>\n",
              "      <td>6</td>\n",
              "      <td>43167.32682</td>\n",
              "    </tr>\n",
              "    <tr>\n",
              "      <th>4</th>\n",
              "      <td>4</td>\n",
              "      <td>7935</td>\n",
              "      <td>2014</td>\n",
              "      <td>117384.68</td>\n",
              "      <td>1</td>\n",
              "      <td>7</td>\n",
              "      <td>12770.11290</td>\n",
              "    </tr>\n",
              "  </tbody>\n",
              "</table>\n",
              "</div>"
            ],
            "text/plain": [
              "   Unnamed: 0  milhas_por_ano  ...  idade_do_modelo   km_por_ano\n",
              "0           0           21801  ...               21  35085.22134\n",
              "1           1            7843  ...               23  12622.05362\n",
              "2           2            7109  ...               15  11440.79806\n",
              "3           3           26823  ...                6  43167.32682\n",
              "4           4            7935  ...                7  12770.11290\n",
              "\n",
              "[5 rows x 7 columns]"
            ]
          },
          "metadata": {},
          "execution_count": 13
        }
      ]
    },
    {
      "cell_type": "code",
      "metadata": {
        "colab": {
          "base_uri": "https://localhost:8080/",
          "height": 206
        },
        "id": "gzCAyAozhP7J",
        "outputId": "9054903d-9f57-48bb-f7fc-a30d9c08d744"
      },
      "source": [
        "dados = dados.drop(columns = [\"Unnamed: 0\", \"milhas_por_ano\",\"ano_do_modelo\"], axis=1)\n",
        "dados.head()"
      ],
      "execution_count": 14,
      "outputs": [
        {
          "output_type": "execute_result",
          "data": {
            "text/html": [
              "<div>\n",
              "<style scoped>\n",
              "    .dataframe tbody tr th:only-of-type {\n",
              "        vertical-align: middle;\n",
              "    }\n",
              "\n",
              "    .dataframe tbody tr th {\n",
              "        vertical-align: top;\n",
              "    }\n",
              "\n",
              "    .dataframe thead th {\n",
              "        text-align: right;\n",
              "    }\n",
              "</style>\n",
              "<table border=\"1\" class=\"dataframe\">\n",
              "  <thead>\n",
              "    <tr style=\"text-align: right;\">\n",
              "      <th></th>\n",
              "      <th>preco</th>\n",
              "      <th>vendido</th>\n",
              "      <th>idade_do_modelo</th>\n",
              "      <th>km_por_ano</th>\n",
              "    </tr>\n",
              "  </thead>\n",
              "  <tbody>\n",
              "    <tr>\n",
              "      <th>0</th>\n",
              "      <td>30941.02</td>\n",
              "      <td>1</td>\n",
              "      <td>21</td>\n",
              "      <td>35085.22134</td>\n",
              "    </tr>\n",
              "    <tr>\n",
              "      <th>1</th>\n",
              "      <td>40557.96</td>\n",
              "      <td>1</td>\n",
              "      <td>23</td>\n",
              "      <td>12622.05362</td>\n",
              "    </tr>\n",
              "    <tr>\n",
              "      <th>2</th>\n",
              "      <td>89627.50</td>\n",
              "      <td>0</td>\n",
              "      <td>15</td>\n",
              "      <td>11440.79806</td>\n",
              "    </tr>\n",
              "    <tr>\n",
              "      <th>3</th>\n",
              "      <td>95276.14</td>\n",
              "      <td>0</td>\n",
              "      <td>6</td>\n",
              "      <td>43167.32682</td>\n",
              "    </tr>\n",
              "    <tr>\n",
              "      <th>4</th>\n",
              "      <td>117384.68</td>\n",
              "      <td>1</td>\n",
              "      <td>7</td>\n",
              "      <td>12770.11290</td>\n",
              "    </tr>\n",
              "  </tbody>\n",
              "</table>\n",
              "</div>"
            ],
            "text/plain": [
              "       preco  vendido  idade_do_modelo   km_por_ano\n",
              "0   30941.02        1               21  35085.22134\n",
              "1   40557.96        1               23  12622.05362\n",
              "2   89627.50        0               15  11440.79806\n",
              "3   95276.14        0                6  43167.32682\n",
              "4  117384.68        1                7  12770.11290"
            ]
          },
          "metadata": {},
          "execution_count": 14
        }
      ]
    },
    {
      "cell_type": "code",
      "metadata": {
        "id": "kerM9oLrhXL4"
      },
      "source": [
        "x = dados[[\"preco\", \"idade_do_modelo\", \"km_por_ano\"]]\n",
        "y = dados[\"vendido\"]"
      ],
      "execution_count": 15,
      "outputs": []
    },
    {
      "cell_type": "markdown",
      "metadata": {
        "id": "T6820JmCiHPw"
      },
      "source": [
        "#Treinando com Linear SVC"
      ]
    },
    {
      "cell_type": "code",
      "metadata": {
        "id": "x0D8vb_NiTGQ"
      },
      "source": [
        "import numpy as np\n",
        "from sklearn.model_selection import train_test_split\n",
        "from sklearn.svm import LinearSVC\n",
        "from sklearn.metrics import accuracy_score"
      ],
      "execution_count": 17,
      "outputs": []
    },
    {
      "cell_type": "code",
      "metadata": {
        "colab": {
          "base_uri": "https://localhost:8080/"
        },
        "id": "bVbEzDkuiKsA",
        "outputId": "c535a7ab-cb3e-4ca1-d7f5-16ec2b0bb223"
      },
      "source": [
        "SEED = 5\n",
        "np.random.seed(SEED)\n",
        "treino_x, teste_x, treino_y, teste_y = train_test_split(x, y, test_size = 0.25,\n",
        "                                                         stratify = y)\n",
        "print(\"Treinaremos com %d elementos e testaremos com %d elementos\" % (len(treino_x), len(teste_x)))"
      ],
      "execution_count": 18,
      "outputs": [
        {
          "output_type": "stream",
          "name": "stdout",
          "text": [
            "Treinaremos com 7500 elementos e testaremos com 2500 elementos\n"
          ]
        }
      ]
    },
    {
      "cell_type": "code",
      "metadata": {
        "colab": {
          "base_uri": "https://localhost:8080/"
        },
        "id": "UCSOn5GsiWvz",
        "outputId": "b0230993-f979-444c-faa0-c53615a4290f"
      },
      "source": [
        "modelo = LinearSVC()\n",
        "modelo.fit(treino_x, treino_y)\n",
        "previsoes = modelo.predict(teste_x)"
      ],
      "execution_count": 19,
      "outputs": [
        {
          "output_type": "stream",
          "name": "stderr",
          "text": [
            "/usr/local/lib/python3.7/dist-packages/sklearn/svm/_base.py:947: ConvergenceWarning: Liblinear failed to converge, increase the number of iterations.\n",
            "  \"the number of iterations.\", ConvergenceWarning)\n"
          ]
        }
      ]
    },
    {
      "cell_type": "code",
      "metadata": {
        "colab": {
          "base_uri": "https://localhost:8080/"
        },
        "id": "Obj6QIiniYkx",
        "outputId": "e262b92d-bbe5-4675-9498-ecc3fffce10d"
      },
      "source": [
        "acuracia = accuracy_score(teste_y, previsoes) * 100\n",
        "print(\"A acurácia foi %.2f%%\" % acuracia)"
      ],
      "execution_count": 20,
      "outputs": [
        {
          "output_type": "stream",
          "name": "stdout",
          "text": [
            "A acurácia foi 62.80%\n"
          ]
        }
      ]
    },
    {
      "cell_type": "markdown",
      "metadata": {
        "id": "ttIqZq2YijpA"
      },
      "source": [
        ""
      ]
    }
  ]
}