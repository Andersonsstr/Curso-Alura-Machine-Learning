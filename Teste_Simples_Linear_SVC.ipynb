{
  "nbformat": 4,
  "nbformat_minor": 0,
  "metadata": {
    "colab": {
      "name": "Teste Simples Linear SVC.ipynb",
      "provenance": [],
      "authorship_tag": "ABX9TyOSd0A6jbXUWUxBPWVyd+In",
      "include_colab_link": true
    },
    "kernelspec": {
      "name": "python3",
      "display_name": "Python 3"
    },
    "language_info": {
      "name": "python"
    }
  },
  "cells": [
    {
      "cell_type": "markdown",
      "metadata": {
        "id": "view-in-github",
        "colab_type": "text"
      },
      "source": [
        "<a href=\"https://colab.research.google.com/github/Andersonsstr/Curso-Alura-Machine-Learning/blob/main/Teste_Simples_Linear_SVC.ipynb\" target=\"_parent\"><img src=\"https://colab.research.google.com/assets/colab-badge.svg\" alt=\"Open In Colab\"/></a>"
      ]
    },
    {
      "cell_type": "markdown",
      "metadata": {
        "id": "RdGAyFYdV6fY"
      },
      "source": [
        "#Criação dos Dados"
      ]
    },
    {
      "cell_type": "code",
      "metadata": {
        "id": "c8Gxxre7Uj_j"
      },
      "source": [
        "# features (1 sim, 0 não)\n",
        "# possui pelo longo?\n",
        "# possui perna curta?\n",
        "# faz auau?"
      ],
      "execution_count": null,
      "outputs": []
    },
    {
      "cell_type": "code",
      "metadata": {
        "id": "pysN8QAET-FJ"
      },
      "source": [
        "porco1 = [0, 1, 0]\n",
        "porco2 = [0, 1, 1]\n",
        "porco3 = [1, 1, 0]\n",
        "\n",
        "cachorro1 = [0, 1, 1]\n",
        "cachorro2 = [1, 0, 1]\n",
        "cachorro3 = [1, 1, 1]\n",
        "\n",
        "# 1 => porco, 0 => cachorro\n",
        "dados = [porco1, porco2, porco3, cachorro1, cachorro2, cachorro3]\n",
        "classes = [1,1,1,0,0,0]"
      ],
      "execution_count": 1,
      "outputs": []
    },
    {
      "cell_type": "code",
      "metadata": {
        "colab": {
          "base_uri": "https://localhost:8080/"
        },
        "id": "8s5GKovTV00Y",
        "outputId": "9d212f3d-e859-4078-cf0e-59f8f510e2a1"
      },
      "source": [
        "dados"
      ],
      "execution_count": 2,
      "outputs": [
        {
          "output_type": "execute_result",
          "data": {
            "text/plain": [
              "[[0, 1, 0], [0, 1, 1], [1, 1, 0], [0, 1, 1], [1, 0, 1], [1, 1, 1]]"
            ]
          },
          "metadata": {},
          "execution_count": 2
        }
      ]
    },
    {
      "cell_type": "markdown",
      "metadata": {
        "id": "LCDDv0kVV_vH"
      },
      "source": [
        "#Criação Do Treino"
      ]
    }
  ]
}